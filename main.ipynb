{
 "cells": [
  {
   "cell_type": "code",
   "execution_count": 25,
   "metadata": {},
   "outputs": [],
   "source": [
    "import pandas as pd\n",
    "from sklearn.preprocessing import LabelEncoder\n",
    "import time"
   ]
  },
  {
   "cell_type": "code",
   "execution_count": 26,
   "metadata": {},
   "outputs": [
    {
     "data": {
      "text/html": [
       "<div>\n",
       "<style scoped>\n",
       "    .dataframe tbody tr th:only-of-type {\n",
       "        vertical-align: middle;\n",
       "    }\n",
       "\n",
       "    .dataframe tbody tr th {\n",
       "        vertical-align: top;\n",
       "    }\n",
       "\n",
       "    .dataframe thead th {\n",
       "        text-align: right;\n",
       "    }\n",
       "</style>\n",
       "<table border=\"1\" class=\"dataframe\">\n",
       "  <thead>\n",
       "    <tr style=\"text-align: right;\">\n",
       "      <th></th>\n",
       "      <th>link</th>\n",
       "      <th>headline</th>\n",
       "      <th>category</th>\n",
       "      <th>short_description</th>\n",
       "      <th>authors</th>\n",
       "      <th>date</th>\n",
       "    </tr>\n",
       "  </thead>\n",
       "  <tbody>\n",
       "    <tr>\n",
       "      <th>0</th>\n",
       "      <td>https://www.huffpost.com/entry/covid-boosters-...</td>\n",
       "      <td>Over 4 Million Americans Roll Up Sleeves For O...</td>\n",
       "      <td>U.S. NEWS</td>\n",
       "      <td>Health experts said it is too early to predict...</td>\n",
       "      <td>Carla K. Johnson, AP</td>\n",
       "      <td>2022-09-23</td>\n",
       "    </tr>\n",
       "    <tr>\n",
       "      <th>1</th>\n",
       "      <td>https://www.huffpost.com/entry/american-airlin...</td>\n",
       "      <td>American Airlines Flyer Charged, Banned For Li...</td>\n",
       "      <td>U.S. NEWS</td>\n",
       "      <td>He was subdued by passengers and crew when he ...</td>\n",
       "      <td>Mary Papenfuss</td>\n",
       "      <td>2022-09-23</td>\n",
       "    </tr>\n",
       "    <tr>\n",
       "      <th>2</th>\n",
       "      <td>https://www.huffpost.com/entry/funniest-tweets...</td>\n",
       "      <td>23 Of The Funniest Tweets About Cats And Dogs ...</td>\n",
       "      <td>COMEDY</td>\n",
       "      <td>\"Until you have a dog you don't understand wha...</td>\n",
       "      <td>Elyse Wanshel</td>\n",
       "      <td>2022-09-23</td>\n",
       "    </tr>\n",
       "    <tr>\n",
       "      <th>3</th>\n",
       "      <td>https://www.huffpost.com/entry/funniest-parent...</td>\n",
       "      <td>The Funniest Tweets From Parents This Week (Se...</td>\n",
       "      <td>PARENTING</td>\n",
       "      <td>\"Accidentally put grown-up toothpaste on my to...</td>\n",
       "      <td>Caroline Bologna</td>\n",
       "      <td>2022-09-23</td>\n",
       "    </tr>\n",
       "    <tr>\n",
       "      <th>4</th>\n",
       "      <td>https://www.huffpost.com/entry/amy-cooper-lose...</td>\n",
       "      <td>Woman Who Called Cops On Black Bird-Watcher Lo...</td>\n",
       "      <td>U.S. NEWS</td>\n",
       "      <td>Amy Cooper accused investment firm Franklin Te...</td>\n",
       "      <td>Nina Golgowski</td>\n",
       "      <td>2022-09-22</td>\n",
       "    </tr>\n",
       "    <tr>\n",
       "      <th>...</th>\n",
       "      <td>...</td>\n",
       "      <td>...</td>\n",
       "      <td>...</td>\n",
       "      <td>...</td>\n",
       "      <td>...</td>\n",
       "      <td>...</td>\n",
       "    </tr>\n",
       "    <tr>\n",
       "      <th>209522</th>\n",
       "      <td>https://www.huffingtonpost.com/entry/rim-ceo-t...</td>\n",
       "      <td>RIM CEO Thorsten Heins' 'Significant' Plans Fo...</td>\n",
       "      <td>TECH</td>\n",
       "      <td>Verizon Wireless and AT&amp;T are already promotin...</td>\n",
       "      <td>Reuters, Reuters</td>\n",
       "      <td>2012-01-28</td>\n",
       "    </tr>\n",
       "    <tr>\n",
       "      <th>209523</th>\n",
       "      <td>https://www.huffingtonpost.com/entry/maria-sha...</td>\n",
       "      <td>Maria Sharapova Stunned By Victoria Azarenka I...</td>\n",
       "      <td>SPORTS</td>\n",
       "      <td>Afterward, Azarenka, more effusive with the pr...</td>\n",
       "      <td></td>\n",
       "      <td>2012-01-28</td>\n",
       "    </tr>\n",
       "    <tr>\n",
       "      <th>209524</th>\n",
       "      <td>https://www.huffingtonpost.com/entry/super-bow...</td>\n",
       "      <td>Giants Over Patriots, Jets Over Colts Among  M...</td>\n",
       "      <td>SPORTS</td>\n",
       "      <td>Leading up to Super Bowl XLVI, the most talked...</td>\n",
       "      <td></td>\n",
       "      <td>2012-01-28</td>\n",
       "    </tr>\n",
       "    <tr>\n",
       "      <th>209525</th>\n",
       "      <td>https://www.huffingtonpost.com/entry/aldon-smi...</td>\n",
       "      <td>Aldon Smith Arrested: 49ers Linebacker Busted ...</td>\n",
       "      <td>SPORTS</td>\n",
       "      <td>CORRECTION: An earlier version of this story i...</td>\n",
       "      <td></td>\n",
       "      <td>2012-01-28</td>\n",
       "    </tr>\n",
       "    <tr>\n",
       "      <th>209526</th>\n",
       "      <td>https://www.huffingtonpost.com/entry/dwight-ho...</td>\n",
       "      <td>Dwight Howard Rips Teammates After Magic Loss ...</td>\n",
       "      <td>SPORTS</td>\n",
       "      <td>The five-time all-star center tore into his te...</td>\n",
       "      <td></td>\n",
       "      <td>2012-01-28</td>\n",
       "    </tr>\n",
       "  </tbody>\n",
       "</table>\n",
       "<p>209527 rows × 6 columns</p>\n",
       "</div>"
      ],
      "text/plain": [
       "                                                     link  \\\n",
       "0       https://www.huffpost.com/entry/covid-boosters-...   \n",
       "1       https://www.huffpost.com/entry/american-airlin...   \n",
       "2       https://www.huffpost.com/entry/funniest-tweets...   \n",
       "3       https://www.huffpost.com/entry/funniest-parent...   \n",
       "4       https://www.huffpost.com/entry/amy-cooper-lose...   \n",
       "...                                                   ...   \n",
       "209522  https://www.huffingtonpost.com/entry/rim-ceo-t...   \n",
       "209523  https://www.huffingtonpost.com/entry/maria-sha...   \n",
       "209524  https://www.huffingtonpost.com/entry/super-bow...   \n",
       "209525  https://www.huffingtonpost.com/entry/aldon-smi...   \n",
       "209526  https://www.huffingtonpost.com/entry/dwight-ho...   \n",
       "\n",
       "                                                 headline   category  \\\n",
       "0       Over 4 Million Americans Roll Up Sleeves For O...  U.S. NEWS   \n",
       "1       American Airlines Flyer Charged, Banned For Li...  U.S. NEWS   \n",
       "2       23 Of The Funniest Tweets About Cats And Dogs ...     COMEDY   \n",
       "3       The Funniest Tweets From Parents This Week (Se...  PARENTING   \n",
       "4       Woman Who Called Cops On Black Bird-Watcher Lo...  U.S. NEWS   \n",
       "...                                                   ...        ...   \n",
       "209522  RIM CEO Thorsten Heins' 'Significant' Plans Fo...       TECH   \n",
       "209523  Maria Sharapova Stunned By Victoria Azarenka I...     SPORTS   \n",
       "209524  Giants Over Patriots, Jets Over Colts Among  M...     SPORTS   \n",
       "209525  Aldon Smith Arrested: 49ers Linebacker Busted ...     SPORTS   \n",
       "209526  Dwight Howard Rips Teammates After Magic Loss ...     SPORTS   \n",
       "\n",
       "                                        short_description  \\\n",
       "0       Health experts said it is too early to predict...   \n",
       "1       He was subdued by passengers and crew when he ...   \n",
       "2       \"Until you have a dog you don't understand wha...   \n",
       "3       \"Accidentally put grown-up toothpaste on my to...   \n",
       "4       Amy Cooper accused investment firm Franklin Te...   \n",
       "...                                                   ...   \n",
       "209522  Verizon Wireless and AT&T are already promotin...   \n",
       "209523  Afterward, Azarenka, more effusive with the pr...   \n",
       "209524  Leading up to Super Bowl XLVI, the most talked...   \n",
       "209525  CORRECTION: An earlier version of this story i...   \n",
       "209526  The five-time all-star center tore into his te...   \n",
       "\n",
       "                     authors       date  \n",
       "0       Carla K. Johnson, AP 2022-09-23  \n",
       "1             Mary Papenfuss 2022-09-23  \n",
       "2              Elyse Wanshel 2022-09-23  \n",
       "3           Caroline Bologna 2022-09-23  \n",
       "4             Nina Golgowski 2022-09-22  \n",
       "...                      ...        ...  \n",
       "209522      Reuters, Reuters 2012-01-28  \n",
       "209523                       2012-01-28  \n",
       "209524                       2012-01-28  \n",
       "209525                       2012-01-28  \n",
       "209526                       2012-01-28  \n",
       "\n",
       "[209527 rows x 6 columns]"
      ]
     },
     "execution_count": 26,
     "metadata": {},
     "output_type": "execute_result"
    }
   ],
   "source": [
    "text_data = pd.read_json('data/News_Category_Dataset_v3.json', lines = True)\n",
    "text_data"
   ]
  },
  {
   "cell_type": "code",
   "execution_count": 27,
   "metadata": {},
   "outputs": [],
   "source": [
    "text_data = text_data.drop(columns = ['link', 'authors', 'date'])"
   ]
  },
  {
   "cell_type": "code",
   "execution_count": 28,
   "metadata": {},
   "outputs": [
    {
     "data": {
      "text/html": [
       "<div>\n",
       "<style scoped>\n",
       "    .dataframe tbody tr th:only-of-type {\n",
       "        vertical-align: middle;\n",
       "    }\n",
       "\n",
       "    .dataframe tbody tr th {\n",
       "        vertical-align: top;\n",
       "    }\n",
       "\n",
       "    .dataframe thead th {\n",
       "        text-align: right;\n",
       "    }\n",
       "</style>\n",
       "<table border=\"1\" class=\"dataframe\">\n",
       "  <thead>\n",
       "    <tr style=\"text-align: right;\">\n",
       "      <th></th>\n",
       "      <th>headline</th>\n",
       "      <th>category</th>\n",
       "      <th>short_description</th>\n",
       "      <th>desc_with_headline</th>\n",
       "    </tr>\n",
       "  </thead>\n",
       "  <tbody>\n",
       "    <tr>\n",
       "      <th>0</th>\n",
       "      <td>Over 4 Million Americans Roll Up Sleeves For O...</td>\n",
       "      <td>U.S. NEWS</td>\n",
       "      <td>Health experts said it is too early to predict...</td>\n",
       "      <td>Over 4 Million Americans Roll Up Sleeves For O...</td>\n",
       "    </tr>\n",
       "    <tr>\n",
       "      <th>1</th>\n",
       "      <td>American Airlines Flyer Charged, Banned For Li...</td>\n",
       "      <td>U.S. NEWS</td>\n",
       "      <td>He was subdued by passengers and crew when he ...</td>\n",
       "      <td>American Airlines Flyer Charged, Banned For Li...</td>\n",
       "    </tr>\n",
       "    <tr>\n",
       "      <th>2</th>\n",
       "      <td>23 Of The Funniest Tweets About Cats And Dogs ...</td>\n",
       "      <td>COMEDY</td>\n",
       "      <td>\"Until you have a dog you don't understand wha...</td>\n",
       "      <td>23 Of The Funniest Tweets About Cats And Dogs ...</td>\n",
       "    </tr>\n",
       "    <tr>\n",
       "      <th>3</th>\n",
       "      <td>The Funniest Tweets From Parents This Week (Se...</td>\n",
       "      <td>PARENTING</td>\n",
       "      <td>\"Accidentally put grown-up toothpaste on my to...</td>\n",
       "      <td>The Funniest Tweets From Parents This Week (Se...</td>\n",
       "    </tr>\n",
       "    <tr>\n",
       "      <th>4</th>\n",
       "      <td>Woman Who Called Cops On Black Bird-Watcher Lo...</td>\n",
       "      <td>U.S. NEWS</td>\n",
       "      <td>Amy Cooper accused investment firm Franklin Te...</td>\n",
       "      <td>Woman Who Called Cops On Black Bird-Watcher Lo...</td>\n",
       "    </tr>\n",
       "    <tr>\n",
       "      <th>...</th>\n",
       "      <td>...</td>\n",
       "      <td>...</td>\n",
       "      <td>...</td>\n",
       "      <td>...</td>\n",
       "    </tr>\n",
       "    <tr>\n",
       "      <th>209522</th>\n",
       "      <td>RIM CEO Thorsten Heins' 'Significant' Plans Fo...</td>\n",
       "      <td>TECH</td>\n",
       "      <td>Verizon Wireless and AT&amp;T are already promotin...</td>\n",
       "      <td>RIM CEO Thorsten Heins' 'Significant' Plans Fo...</td>\n",
       "    </tr>\n",
       "    <tr>\n",
       "      <th>209523</th>\n",
       "      <td>Maria Sharapova Stunned By Victoria Azarenka I...</td>\n",
       "      <td>SPORTS</td>\n",
       "      <td>Afterward, Azarenka, more effusive with the pr...</td>\n",
       "      <td>Maria Sharapova Stunned By Victoria Azarenka I...</td>\n",
       "    </tr>\n",
       "    <tr>\n",
       "      <th>209524</th>\n",
       "      <td>Giants Over Patriots, Jets Over Colts Among  M...</td>\n",
       "      <td>SPORTS</td>\n",
       "      <td>Leading up to Super Bowl XLVI, the most talked...</td>\n",
       "      <td>Giants Over Patriots, Jets Over Colts Among  M...</td>\n",
       "    </tr>\n",
       "    <tr>\n",
       "      <th>209525</th>\n",
       "      <td>Aldon Smith Arrested: 49ers Linebacker Busted ...</td>\n",
       "      <td>SPORTS</td>\n",
       "      <td>CORRECTION: An earlier version of this story i...</td>\n",
       "      <td>Aldon Smith Arrested: 49ers Linebacker Busted ...</td>\n",
       "    </tr>\n",
       "    <tr>\n",
       "      <th>209526</th>\n",
       "      <td>Dwight Howard Rips Teammates After Magic Loss ...</td>\n",
       "      <td>SPORTS</td>\n",
       "      <td>The five-time all-star center tore into his te...</td>\n",
       "      <td>Dwight Howard Rips Teammates After Magic Loss ...</td>\n",
       "    </tr>\n",
       "  </tbody>\n",
       "</table>\n",
       "<p>209527 rows × 4 columns</p>\n",
       "</div>"
      ],
      "text/plain": [
       "                                                 headline   category  \\\n",
       "0       Over 4 Million Americans Roll Up Sleeves For O...  U.S. NEWS   \n",
       "1       American Airlines Flyer Charged, Banned For Li...  U.S. NEWS   \n",
       "2       23 Of The Funniest Tweets About Cats And Dogs ...     COMEDY   \n",
       "3       The Funniest Tweets From Parents This Week (Se...  PARENTING   \n",
       "4       Woman Who Called Cops On Black Bird-Watcher Lo...  U.S. NEWS   \n",
       "...                                                   ...        ...   \n",
       "209522  RIM CEO Thorsten Heins' 'Significant' Plans Fo...       TECH   \n",
       "209523  Maria Sharapova Stunned By Victoria Azarenka I...     SPORTS   \n",
       "209524  Giants Over Patriots, Jets Over Colts Among  M...     SPORTS   \n",
       "209525  Aldon Smith Arrested: 49ers Linebacker Busted ...     SPORTS   \n",
       "209526  Dwight Howard Rips Teammates After Magic Loss ...     SPORTS   \n",
       "\n",
       "                                        short_description  \\\n",
       "0       Health experts said it is too early to predict...   \n",
       "1       He was subdued by passengers and crew when he ...   \n",
       "2       \"Until you have a dog you don't understand wha...   \n",
       "3       \"Accidentally put grown-up toothpaste on my to...   \n",
       "4       Amy Cooper accused investment firm Franklin Te...   \n",
       "...                                                   ...   \n",
       "209522  Verizon Wireless and AT&T are already promotin...   \n",
       "209523  Afterward, Azarenka, more effusive with the pr...   \n",
       "209524  Leading up to Super Bowl XLVI, the most talked...   \n",
       "209525  CORRECTION: An earlier version of this story i...   \n",
       "209526  The five-time all-star center tore into his te...   \n",
       "\n",
       "                                       desc_with_headline  \n",
       "0       Over 4 Million Americans Roll Up Sleeves For O...  \n",
       "1       American Airlines Flyer Charged, Banned For Li...  \n",
       "2       23 Of The Funniest Tweets About Cats And Dogs ...  \n",
       "3       The Funniest Tweets From Parents This Week (Se...  \n",
       "4       Woman Who Called Cops On Black Bird-Watcher Lo...  \n",
       "...                                                   ...  \n",
       "209522  RIM CEO Thorsten Heins' 'Significant' Plans Fo...  \n",
       "209523  Maria Sharapova Stunned By Victoria Azarenka I...  \n",
       "209524  Giants Over Patriots, Jets Over Colts Among  M...  \n",
       "209525  Aldon Smith Arrested: 49ers Linebacker Busted ...  \n",
       "209526  Dwight Howard Rips Teammates After Magic Loss ...  \n",
       "\n",
       "[209527 rows x 4 columns]"
      ]
     },
     "execution_count": 28,
     "metadata": {},
     "output_type": "execute_result"
    }
   ],
   "source": [
    "text_data['desc_with_headline'] = text_data['headline'] + text_data['short_description']\n",
    "text_data"
   ]
  },
  {
   "cell_type": "code",
   "execution_count": 29,
   "metadata": {},
   "outputs": [
    {
     "data": {
      "text/plain": [
       "headline              False\n",
       "category              False\n",
       "short_description     False\n",
       "desc_with_headline    False\n",
       "dtype: bool"
      ]
     },
     "execution_count": 29,
     "metadata": {},
     "output_type": "execute_result"
    }
   ],
   "source": [
    "text_data.isnull().any()"
   ]
  },
  {
   "cell_type": "code",
   "execution_count": 30,
   "metadata": {},
   "outputs": [
    {
     "data": {
      "text/plain": [
       "category\n",
       "POLITICS          35602\n",
       "WELLNESS          17945\n",
       "ENTERTAINMENT     17362\n",
       "TRAVEL             9900\n",
       "STYLE & BEAUTY     9814\n",
       "PARENTING          8791\n",
       "HEALTHY LIVING     6694\n",
       "QUEER VOICES       6347\n",
       "FOOD & DRINK       6340\n",
       "BUSINESS           5992\n",
       "COMEDY             5400\n",
       "SPORTS             5077\n",
       "BLACK VOICES       4583\n",
       "HOME & LIVING      4320\n",
       "PARENTS            3955\n",
       "THE WORLDPOST      3664\n",
       "WEDDINGS           3653\n",
       "WOMEN              3572\n",
       "CRIME              3562\n",
       "IMPACT             3484\n",
       "DIVORCE            3426\n",
       "WORLD NEWS         3299\n",
       "MEDIA              2944\n",
       "WEIRD NEWS         2777\n",
       "GREEN              2622\n",
       "WORLDPOST          2579\n",
       "RELIGION           2577\n",
       "STYLE              2254\n",
       "SCIENCE            2206\n",
       "TECH               2104\n",
       "TASTE              2096\n",
       "MONEY              1756\n",
       "ARTS               1509\n",
       "ENVIRONMENT        1444\n",
       "FIFTY              1401\n",
       "GOOD NEWS          1398\n",
       "U.S. NEWS          1377\n",
       "ARTS & CULTURE     1339\n",
       "COLLEGE            1144\n",
       "LATINO VOICES      1130\n",
       "CULTURE & ARTS     1074\n",
       "EDUCATION          1014\n",
       "Name: count, dtype: int64"
      ]
     },
     "execution_count": 30,
     "metadata": {},
     "output_type": "execute_result"
    }
   ],
   "source": [
    "text_data['category'].value_counts()"
   ]
  },
  {
   "cell_type": "code",
   "execution_count": 31,
   "metadata": {},
   "outputs": [
    {
     "name": "stdout",
     "output_type": "stream",
     "text": [
      "Number of classes: 42\n"
     ]
    }
   ],
   "source": [
    "print(f'Number of classes: {len(text_data[\"category\"].unique())}')"
   ]
  },
  {
   "cell_type": "code",
   "execution_count": 32,
   "metadata": {},
   "outputs": [],
   "source": [
    "text_data['encoded_category'] = LabelEncoder().fit_transform(text_data['category'])"
   ]
  },
  {
   "cell_type": "code",
   "execution_count": 33,
   "metadata": {},
   "outputs": [
    {
     "data": {
      "text/html": [
       "<div>\n",
       "<style scoped>\n",
       "    .dataframe tbody tr th:only-of-type {\n",
       "        vertical-align: middle;\n",
       "    }\n",
       "\n",
       "    .dataframe tbody tr th {\n",
       "        vertical-align: top;\n",
       "    }\n",
       "\n",
       "    .dataframe thead th {\n",
       "        text-align: right;\n",
       "    }\n",
       "</style>\n",
       "<table border=\"1\" class=\"dataframe\">\n",
       "  <thead>\n",
       "    <tr style=\"text-align: right;\">\n",
       "      <th></th>\n",
       "      <th>headline</th>\n",
       "      <th>category</th>\n",
       "      <th>short_description</th>\n",
       "      <th>desc_with_headline</th>\n",
       "      <th>encoded_category</th>\n",
       "    </tr>\n",
       "  </thead>\n",
       "  <tbody>\n",
       "    <tr>\n",
       "      <th>0</th>\n",
       "      <td>Over 4 Million Americans Roll Up Sleeves For O...</td>\n",
       "      <td>U.S. NEWS</td>\n",
       "      <td>Health experts said it is too early to predict...</td>\n",
       "      <td>Over 4 Million Americans Roll Up Sleeves For O...</td>\n",
       "      <td>35</td>\n",
       "    </tr>\n",
       "    <tr>\n",
       "      <th>1</th>\n",
       "      <td>American Airlines Flyer Charged, Banned For Li...</td>\n",
       "      <td>U.S. NEWS</td>\n",
       "      <td>He was subdued by passengers and crew when he ...</td>\n",
       "      <td>American Airlines Flyer Charged, Banned For Li...</td>\n",
       "      <td>35</td>\n",
       "    </tr>\n",
       "    <tr>\n",
       "      <th>2</th>\n",
       "      <td>23 Of The Funniest Tweets About Cats And Dogs ...</td>\n",
       "      <td>COMEDY</td>\n",
       "      <td>\"Until you have a dog you don't understand wha...</td>\n",
       "      <td>23 Of The Funniest Tweets About Cats And Dogs ...</td>\n",
       "      <td>5</td>\n",
       "    </tr>\n",
       "    <tr>\n",
       "      <th>3</th>\n",
       "      <td>The Funniest Tweets From Parents This Week (Se...</td>\n",
       "      <td>PARENTING</td>\n",
       "      <td>\"Accidentally put grown-up toothpaste on my to...</td>\n",
       "      <td>The Funniest Tweets From Parents This Week (Se...</td>\n",
       "      <td>22</td>\n",
       "    </tr>\n",
       "    <tr>\n",
       "      <th>4</th>\n",
       "      <td>Woman Who Called Cops On Black Bird-Watcher Lo...</td>\n",
       "      <td>U.S. NEWS</td>\n",
       "      <td>Amy Cooper accused investment firm Franklin Te...</td>\n",
       "      <td>Woman Who Called Cops On Black Bird-Watcher Lo...</td>\n",
       "      <td>35</td>\n",
       "    </tr>\n",
       "    <tr>\n",
       "      <th>...</th>\n",
       "      <td>...</td>\n",
       "      <td>...</td>\n",
       "      <td>...</td>\n",
       "      <td>...</td>\n",
       "      <td>...</td>\n",
       "    </tr>\n",
       "    <tr>\n",
       "      <th>209522</th>\n",
       "      <td>RIM CEO Thorsten Heins' 'Significant' Plans Fo...</td>\n",
       "      <td>TECH</td>\n",
       "      <td>Verizon Wireless and AT&amp;T are already promotin...</td>\n",
       "      <td>RIM CEO Thorsten Heins' 'Significant' Plans Fo...</td>\n",
       "      <td>32</td>\n",
       "    </tr>\n",
       "    <tr>\n",
       "      <th>209523</th>\n",
       "      <td>Maria Sharapova Stunned By Victoria Azarenka I...</td>\n",
       "      <td>SPORTS</td>\n",
       "      <td>Afterward, Azarenka, more effusive with the pr...</td>\n",
       "      <td>Maria Sharapova Stunned By Victoria Azarenka I...</td>\n",
       "      <td>28</td>\n",
       "    </tr>\n",
       "    <tr>\n",
       "      <th>209524</th>\n",
       "      <td>Giants Over Patriots, Jets Over Colts Among  M...</td>\n",
       "      <td>SPORTS</td>\n",
       "      <td>Leading up to Super Bowl XLVI, the most talked...</td>\n",
       "      <td>Giants Over Patriots, Jets Over Colts Among  M...</td>\n",
       "      <td>28</td>\n",
       "    </tr>\n",
       "    <tr>\n",
       "      <th>209525</th>\n",
       "      <td>Aldon Smith Arrested: 49ers Linebacker Busted ...</td>\n",
       "      <td>SPORTS</td>\n",
       "      <td>CORRECTION: An earlier version of this story i...</td>\n",
       "      <td>Aldon Smith Arrested: 49ers Linebacker Busted ...</td>\n",
       "      <td>28</td>\n",
       "    </tr>\n",
       "    <tr>\n",
       "      <th>209526</th>\n",
       "      <td>Dwight Howard Rips Teammates After Magic Loss ...</td>\n",
       "      <td>SPORTS</td>\n",
       "      <td>The five-time all-star center tore into his te...</td>\n",
       "      <td>Dwight Howard Rips Teammates After Magic Loss ...</td>\n",
       "      <td>28</td>\n",
       "    </tr>\n",
       "  </tbody>\n",
       "</table>\n",
       "<p>209527 rows × 5 columns</p>\n",
       "</div>"
      ],
      "text/plain": [
       "                                                 headline   category  \\\n",
       "0       Over 4 Million Americans Roll Up Sleeves For O...  U.S. NEWS   \n",
       "1       American Airlines Flyer Charged, Banned For Li...  U.S. NEWS   \n",
       "2       23 Of The Funniest Tweets About Cats And Dogs ...     COMEDY   \n",
       "3       The Funniest Tweets From Parents This Week (Se...  PARENTING   \n",
       "4       Woman Who Called Cops On Black Bird-Watcher Lo...  U.S. NEWS   \n",
       "...                                                   ...        ...   \n",
       "209522  RIM CEO Thorsten Heins' 'Significant' Plans Fo...       TECH   \n",
       "209523  Maria Sharapova Stunned By Victoria Azarenka I...     SPORTS   \n",
       "209524  Giants Over Patriots, Jets Over Colts Among  M...     SPORTS   \n",
       "209525  Aldon Smith Arrested: 49ers Linebacker Busted ...     SPORTS   \n",
       "209526  Dwight Howard Rips Teammates After Magic Loss ...     SPORTS   \n",
       "\n",
       "                                        short_description  \\\n",
       "0       Health experts said it is too early to predict...   \n",
       "1       He was subdued by passengers and crew when he ...   \n",
       "2       \"Until you have a dog you don't understand wha...   \n",
       "3       \"Accidentally put grown-up toothpaste on my to...   \n",
       "4       Amy Cooper accused investment firm Franklin Te...   \n",
       "...                                                   ...   \n",
       "209522  Verizon Wireless and AT&T are already promotin...   \n",
       "209523  Afterward, Azarenka, more effusive with the pr...   \n",
       "209524  Leading up to Super Bowl XLVI, the most talked...   \n",
       "209525  CORRECTION: An earlier version of this story i...   \n",
       "209526  The five-time all-star center tore into his te...   \n",
       "\n",
       "                                       desc_with_headline  encoded_category  \n",
       "0       Over 4 Million Americans Roll Up Sleeves For O...                35  \n",
       "1       American Airlines Flyer Charged, Banned For Li...                35  \n",
       "2       23 Of The Funniest Tweets About Cats And Dogs ...                 5  \n",
       "3       The Funniest Tweets From Parents This Week (Se...                22  \n",
       "4       Woman Who Called Cops On Black Bird-Watcher Lo...                35  \n",
       "...                                                   ...               ...  \n",
       "209522  RIM CEO Thorsten Heins' 'Significant' Plans Fo...                32  \n",
       "209523  Maria Sharapova Stunned By Victoria Azarenka I...                28  \n",
       "209524  Giants Over Patriots, Jets Over Colts Among  M...                28  \n",
       "209525  Aldon Smith Arrested: 49ers Linebacker Busted ...                28  \n",
       "209526  Dwight Howard Rips Teammates After Magic Loss ...                28  \n",
       "\n",
       "[209527 rows x 5 columns]"
      ]
     },
     "execution_count": 33,
     "metadata": {},
     "output_type": "execute_result"
    }
   ],
   "source": [
    "text_data"
   ]
  },
  {
   "cell_type": "code",
   "execution_count": 34,
   "metadata": {},
   "outputs": [],
   "source": [
    "text_data = text_data[text_data['short_description'] != ''].reset_index(drop = True)"
   ]
  },
  {
   "cell_type": "code",
   "execution_count": 35,
   "metadata": {},
   "outputs": [],
   "source": [
    "from src.classes import TextDataset\n",
    "from torch.utils.data import DataLoader, random_split\n",
    "from torch.nn.utils.rnn import pad_sequence\n",
    "from torchtext.vocab import build_vocab_from_iterator\n",
    "from torchtext.data.utils import get_tokenizer  \n",
    "import torch\n",
    "import torchtext\n",
    "torchtext.disable_torchtext_deprecation_warning()\n",
    "import matplotlib.pyplot as plt"
   ]
  },
  {
   "cell_type": "code",
   "execution_count": 36,
   "metadata": {},
   "outputs": [],
   "source": [
    "device = torch.device('cuda' if torch.cuda.is_available() else 'cpu')"
   ]
  },
  {
   "cell_type": "code",
   "execution_count": 37,
   "metadata": {},
   "outputs": [],
   "source": [
    "dataset = TextDataset(data = text_data['desc_with_headline'], targets = text_data['encoded_category'])\n",
    "tokenizer = get_tokenizer(tokenizer = 'basic_english')"
   ]
  },
  {
   "cell_type": "code",
   "execution_count": 38,
   "metadata": {},
   "outputs": [
    {
     "data": {
      "text/plain": [
       "189815"
      ]
     },
     "execution_count": 38,
     "metadata": {},
     "output_type": "execute_result"
    }
   ],
   "source": [
    "dataset.__len__()"
   ]
  },
  {
   "cell_type": "code",
   "execution_count": 39,
   "metadata": {},
   "outputs": [],
   "source": [
    "def tokenize(iterable):\n",
    "    for i in range(len(iterable)):\n",
    "        yield tokenizer(iterable[i][0])\n",
    "\n",
    "vocab = build_vocab_from_iterator(tokenize(iterable = dataset))"
   ]
  },
  {
   "cell_type": "code",
   "execution_count": 40,
   "metadata": {},
   "outputs": [],
   "source": [
    "pipe = lambda x: vocab(tokenizer(x))\n",
    "\n",
    "def collate_batch(batch):\n",
    "    text_list, label_list, offset_list = [], [], []\n",
    "    for text, label in batch:\n",
    "        processed_text = torch.tensor(pipe(text), dtype = torch.int64)\n",
    "        text_list.append(processed_text)\n",
    "        label_list.append(label)\n",
    "        offset_list.append(processed_text.size(0))\n",
    "    offset_list = torch.tensor(offset_list)\n",
    "    padded_text_list = pad_sequence(text_list, batch_first = True)\n",
    "    label_list = torch.tensor(label_list)\n",
    "    return padded_text_list.to(device), label_list.to(device), offset_list.to(device)\n",
    "\n",
    "train_length = int(0.9 * len(text_data))\n",
    "test_length = len(text_data) - train_length\n",
    "train_set, valid_set = random_split(dataset = dataset, lengths = [train_length, test_length])\n",
    "\n",
    "train_dls = DataLoader(dataset = dataset, batch_size = 128, collate_fn = collate_batch, shuffle = True)\n",
    "valid_dls = DataLoader(dataset = valid_set, batch_size = 128, collate_fn = collate_batch, shuffle = True)"
   ]
  },
  {
   "cell_type": "code",
   "execution_count": 41,
   "metadata": {},
   "outputs": [],
   "source": [
    "text, label, length = next(iter(train_dls))"
   ]
  },
  {
   "cell_type": "code",
   "execution_count": 42,
   "metadata": {},
   "outputs": [
    {
     "name": "stdout",
     "output_type": "stream",
     "text": [
      "Features shape: torch.Size([128, 108]), data type: torch.int64\n",
      "Labels shape: torch.Size([128]), data type: torch.int64\n",
      "Offset shape: torch.Size([128]), data type: torch.int64\n"
     ]
    }
   ],
   "source": [
    "print(f'Features shape: {text.shape}, data type: {text.dtype}')\n",
    "print(f'Labels shape: {label.shape}, data type: {label.dtype}')\n",
    "print(f'Offset shape: {length.shape}, data type: {length.dtype}')"
   ]
  },
  {
   "cell_type": "markdown",
   "metadata": {},
   "source": [
    "<h2>Classification with PyTorch</h2>"
   ]
  },
  {
   "cell_type": "code",
   "execution_count": 51,
   "metadata": {},
   "outputs": [],
   "source": [
    "from src.classes import TextClassifier\n",
    "from torchinfo import summary\n",
    "import torch.optim as optim\n",
    "import torch.nn as nn"
   ]
  },
  {
   "cell_type": "code",
   "execution_count": 52,
   "metadata": {},
   "outputs": [],
   "source": [
    "def train_model(dls, clf, opt, loss_fn):\n",
    "    clf.train()\n",
    "    total_acc, total_loss = 0.0, 0.0\n",
    "    for data, label, length in dls:\n",
    "        opt.zero_grad()\n",
    "        pred = clf(data, length)\n",
    "        loss = loss_fn(pred, label)\n",
    "        loss.backward()\n",
    "        opt.step()\n",
    "        total_acc += (pred.argmax(1) == label).sum().item()\n",
    "        total_loss += loss.item() * label.size(0)\n",
    "    \n",
    "    return total_acc / len(dls.dataset), total_loss / len(dls.dataset)\n",
    "\n",
    "def evaluate_model(dls, clf, loss_fn):\n",
    "    clf.eval()\n",
    "    total_acc, total_loss = 0.0, 0.0\n",
    "    with torch.no_grad():\n",
    "        for data, label, length in dls:\n",
    "            pred = clf(data, length)\n",
    "            loss = loss_fn(pred, label)\n",
    "            total_acc += (pred.argmax(1) == label).sum().item()\n",
    "            total_loss += loss.item() * label.size(0)\n",
    "            \n",
    "    return total_acc / len(dls.dataset), total_loss / len(dls.dataset)"
   ]
  },
  {
   "cell_type": "markdown",
   "metadata": {},
   "source": [
    "<h4>Recurrent Neural Network</h4>"
   ]
  },
  {
   "cell_type": "code",
   "execution_count": 53,
   "metadata": {},
   "outputs": [],
   "source": [
    "rnn = TextClassifier(vocab_size = len(vocab), embed_dim = 100, hidden_size = 32, output_size = 42, num_layers = 1, type_rnn = 'rnn').to(device)\n",
    "loss_func = nn.CrossEntropyLoss()"
   ]
  },
  {
   "cell_type": "code",
   "execution_count": 56,
   "metadata": {},
   "outputs": [
    {
     "name": "stdout",
     "output_type": "stream",
     "text": [
      "Epoch: 1 train_acc: 0.185 train_loss: 3.213 valid_acc: 0.235 valid_loss: 3.008 time: 29.780 seconds\n",
      "Epoch: 2 train_acc: 0.246 train_loss: 2.948 valid_acc: 0.259 valid_loss: 2.845 time: 29.597 seconds\n",
      "Epoch: 3 train_acc: 0.278 train_loss: 2.792 valid_acc: 0.298 valid_loss: 2.680 time: 30.367 seconds\n",
      "Epoch: 4 train_acc: 0.299 train_loss: 2.707 valid_acc: 0.318 valid_loss: 2.594 time: 30.371 seconds\n",
      "Epoch: 5 train_acc: 0.319 train_loss: 2.610 valid_acc: 0.314 valid_loss: 2.604 time: 30.373 seconds\n",
      "Epoch: 6 train_acc: 0.335 train_loss: 2.537 valid_acc: 0.315 valid_loss: 2.590 time: 30.393 seconds\n",
      "Epoch: 7 train_acc: 0.347 train_loss: 2.469 valid_acc: 0.353 valid_loss: 2.404 time: 30.438 seconds\n",
      "Epoch: 8 train_acc: 0.362 train_loss: 2.390 valid_acc: 0.374 valid_loss: 2.312 time: 30.321 seconds\n",
      "Epoch: 9 train_acc: 0.373 train_loss: 2.335 valid_acc: 0.385 valid_loss: 2.248 time: 30.223 seconds\n",
      "Epoch: 10 train_acc: 0.363 train_loss: 2.385 valid_acc: 0.337 valid_loss: 2.461 time: 30.337 seconds\n",
      "Epoch: 11 train_acc: 0.386 train_loss: 2.269 valid_acc: 0.405 valid_loss: 2.173 time: 30.500 seconds\n",
      "Epoch: 12 train_acc: 0.401 train_loss: 2.213 valid_acc: 0.420 valid_loss: 2.108 time: 31.507 seconds\n",
      "Epoch: 13 train_acc: 0.417 train_loss: 2.127 valid_acc: 0.437 valid_loss: 2.037 time: 31.397 seconds\n",
      "Epoch: 14 train_acc: 0.430 train_loss: 2.074 valid_acc: 0.442 valid_loss: 2.009 time: 31.779 seconds\n",
      "Epoch: 15 train_acc: 0.441 train_loss: 2.036 valid_acc: 0.447 valid_loss: 2.005 time: 31.310 seconds\n",
      "Epoch: 16 train_acc: 0.450 train_loss: 1.991 valid_acc: 0.468 valid_loss: 1.904 time: 31.594 seconds\n",
      "Epoch: 17 train_acc: 0.461 train_loss: 1.941 valid_acc: 0.453 valid_loss: 1.990 time: 31.327 seconds\n",
      "Epoch: 18 train_acc: 0.471 train_loss: 1.908 valid_acc: 0.450 valid_loss: 2.004 time: 30.740 seconds\n",
      "Epoch: 19 train_acc: 0.478 train_loss: 1.881 valid_acc: 0.475 valid_loss: 1.909 time: 32.089 seconds\n",
      "Epoch: 20 train_acc: 0.431 train_loss: 2.120 valid_acc: 0.463 valid_loss: 1.918 time: 32.052 seconds\n"
     ]
    }
   ],
   "source": [
    "train_losses, train_accuracies, valid_losses, valid_accuracies = [], [], [], []\n",
    "for epoch in range(20):\n",
    "    start = time.time()\n",
    "\n",
    "    train_acc, train_loss = train_model(dls = train_dls, clf = rnn, opt = optim.Adam(params = rnn.parameters()), loss_fn = loss_func)\n",
    "    valid_acc, valid_loss = evaluate_model(dls = valid_dls, clf = rnn, loss_fn = loss_func)\n",
    "\n",
    "    train_accuracies.append(train_acc)\n",
    "    train_losses.append(train_loss)\n",
    "    valid_accuracies.append(valid_acc)\n",
    "    valid_losses.append(valid_loss)\n",
    "\n",
    "    end = time.time()\n",
    "\n",
    "    print(f'Epoch: {epoch + 1} train_acc: {train_acc:.3f} train_loss: {train_loss:.3f} valid_acc: {valid_acc:.3f} valid_loss: {valid_loss:.3f} time: {end - start:.3f} seconds')"
   ]
  },
  {
   "cell_type": "code",
   "execution_count": 59,
   "metadata": {},
   "outputs": [
    {
     "data": {
      "text/plain": [
       "<matplotlib.legend.Legend at 0x75ea3544d120>"
      ]
     },
     "execution_count": 59,
     "metadata": {},
     "output_type": "execute_result"
    },
    {
     "data": {
      "image/png": "[encoded data removed]",
      "text/plain": [
       "<Figure size 1000x500 with 2 Axes>"
      ]
     },
     "metadata": {},
     "output_type": "display_data"
    }
   ],
   "source": [
    "fig, (ax1, ax2) = plt.subplots(1, 2, figsize = (10, 5))\n",
    "fig.suptitle(\"RNN Loss and Accuracy\")\n",
    "ax1.plot(train_losses, label = \"train\")\n",
    "ax1.plot(valid_losses, label = \"valid\")\n",
    "ax1.title.set_text(\"Loss\")\n",
    "ax1.set_xlabel(\"Epoch\")\n",
    "ax1.legend()\n",
    "\n",
    "ax2.plot(train_accuracies, label = \"train\")\n",
    "ax2.plot(valid_accuracies, label = \"valid\")\n",
    "ax2.title.set_text(\"Accuracy\")\n",
    "ax2.set_xlabel(\"Epoch\")\n",
    "ax2.legend()"
   ]
  },
  {
   "cell_type": "markdown",
   "metadata": {},
   "source": [
    "<h4>Gated Recurrent Unit</h4>"
   ]
  },
  {
   "cell_type": "code",
   "execution_count": 60,
   "metadata": {},
   "outputs": [],
   "source": [
    "gru = TextClassifier(vocab_size = len(vocab), embed_dim = 100, hidden_size = 32, output_size = 42, num_layers = 1, type_rnn = 'gru').to(device)\n",
    "loss_func = nn.CrossEntropyLoss()"
   ]
  },
  {
   "cell_type": "code",
   "execution_count": 62,
   "metadata": {},
   "outputs": [
    {
     "name": "stdout",
     "output_type": "stream",
     "text": [
      "Epoch: 1 train_acc: 0.459 train_loss: 2.069 valid_acc: 0.522 valid_loss: 1.815 time: 30.872 seconds\n",
      "Epoch: 2 train_acc: 0.540 train_loss: 1.726 valid_acc: 0.584 valid_loss: 1.539 time: 33.660 seconds\n",
      "Epoch: 3 train_acc: 0.591 train_loss: 1.501 valid_acc: 0.637 valid_loss: 1.325 time: 34.029 seconds\n",
      "Epoch: 4 train_acc: 0.637 train_loss: 1.312 valid_acc: 0.682 valid_loss: 1.142 time: 33.151 seconds\n",
      "Epoch: 5 train_acc: 0.679 train_loss: 1.146 valid_acc: 0.730 valid_loss: 0.976 time: 32.235 seconds\n",
      "Epoch: 6 train_acc: 0.720 train_loss: 0.995 valid_acc: 0.769 valid_loss: 0.836 time: 30.220 seconds\n",
      "Epoch: 7 train_acc: 0.759 train_loss: 0.857 valid_acc: 0.809 valid_loss: 0.704 time: 31.299 seconds\n",
      "Epoch: 8 train_acc: 0.795 train_loss: 0.732 valid_acc: 0.841 valid_loss: 0.592 time: 32.203 seconds\n",
      "Epoch: 9 train_acc: 0.828 train_loss: 0.621 valid_acc: 0.870 valid_loss: 0.492 time: 33.399 seconds\n",
      "Epoch: 10 train_acc: 0.856 train_loss: 0.524 valid_acc: 0.890 valid_loss: 0.412 time: 32.754 seconds\n",
      "Epoch: 11 train_acc: 0.881 train_loss: 0.439 valid_acc: 0.913 valid_loss: 0.342 time: 32.860 seconds\n",
      "Epoch: 12 train_acc: 0.902 train_loss: 0.368 valid_acc: 0.926 valid_loss: 0.281 time: 33.015 seconds\n",
      "Epoch: 13 train_acc: 0.919 train_loss: 0.307 valid_acc: 0.942 valid_loss: 0.229 time: 32.862 seconds\n",
      "Epoch: 14 train_acc: 0.934 train_loss: 0.256 valid_acc: 0.954 valid_loss: 0.188 time: 32.958 seconds\n",
      "Epoch: 15 train_acc: 0.945 train_loss: 0.214 valid_acc: 0.963 valid_loss: 0.158 time: 33.013 seconds\n",
      "Epoch: 16 train_acc: 0.954 train_loss: 0.181 valid_acc: 0.971 valid_loss: 0.127 time: 32.863 seconds\n",
      "Epoch: 17 train_acc: 0.962 train_loss: 0.151 valid_acc: 0.973 valid_loss: 0.111 time: 33.485 seconds\n",
      "Epoch: 18 train_acc: 0.968 train_loss: 0.129 valid_acc: 0.980 valid_loss: 0.088 time: 33.369 seconds\n",
      "Epoch: 19 train_acc: 0.973 train_loss: 0.110 valid_acc: 0.982 valid_loss: 0.079 time: 32.215 seconds\n",
      "Epoch: 20 train_acc: 0.977 train_loss: 0.094 valid_acc: 0.987 valid_loss: 0.063 time: 31.792 seconds\n"
     ]
    }
   ],
   "source": [
    "train_losses, train_accuracies, valid_losses, valid_accuracies = [], [], [], []\n",
    "for epoch in range(20):\n",
    "    start = time.time()\n",
    "\n",
    "    train_acc, train_loss = train_model(dls = train_dls, clf = gru, opt = optim.Adam(params = gru.parameters()), loss_fn = loss_func)\n",
    "    valid_acc, valid_loss = evaluate_model(dls = valid_dls, clf = gru, loss_fn = loss_func)\n",
    "\n",
    "    train_accuracies.append(train_acc)\n",
    "    train_losses.append(train_loss)\n",
    "    valid_accuracies.append(valid_acc)\n",
    "    valid_losses.append(valid_loss)\n",
    "\n",
    "    end = time.time()\n",
    "\n",
    "    print(f'Epoch: {epoch + 1} train_acc: {train_acc:.3f} train_loss: {train_loss:.3f} valid_acc: {valid_acc:.3f} valid_loss: {valid_loss:.3f} time: {end - start:.3f} seconds')"
   ]
  },
  {
   "cell_type": "code",
   "execution_count": 63,
   "metadata": {},
   "outputs": [
    {
     "data": {
      "text/plain": [
       "<matplotlib.legend.Legend at 0x75ea357c8a90>"
      ]
     },
     "execution_count": 63,
     "metadata": {},
     "output_type": "execute_result"
    },
    {
     "data": {
      "image/png": "[encoded data removed]",
      "text/plain": [
       "<Figure size 1000x500 with 2 Axes>"
      ]
     },
     "metadata": {},
     "output_type": "display_data"
    }
   ],
   "source": [
    "    fig, (ax1, ax2) = plt.subplots(1, 2, figsize = (10, 5))\n",
    "    fig.suptitle(\"GRU Loss and Accuracy\")\n",
    "    ax1.plot(train_losses, label = \"train\")\n",
    "    ax1.plot(valid_losses, label = \"valid\")\n",
    "    ax1.title.set_text(\"Loss\")\n",
    "    ax1.set_xlabel(\"Epoch\")\n",
    "    ax1.legend()\n",
    "\n",
    "    ax2.plot(train_accuracies, label = \"train\")\n",
    "    ax2.plot(valid_accuracies, label = \"valid\")\n",
    "    ax2.title.set_text(\"Accuracy\")\n",
    "    ax2.set_xlabel(\"Epoch\")\n",
    "    ax2.legend()"
   ]
  },
  {
   "cell_type": "markdown",
   "metadata": {},
   "source": [
    "<h4>Long Short-Term Memory</h4>"
   ]
  },
  {
   "cell_type": "code",
   "execution_count": 64,
   "metadata": {},
   "outputs": [],
   "source": [
    "lstm = TextClassifier(vocab_size = len(vocab), embed_dim = 100, hidden_size = 32, output_size = 42, num_layers = 1, type_rnn = 'lstm').to(device)\n",
    "loss_func = nn.CrossEntropyLoss()"
   ]
  },
  {
   "cell_type": "code",
   "execution_count": 65,
   "metadata": {},
   "outputs": [
    {
     "name": "stdout",
     "output_type": "stream",
     "text": [
      "Epoch: 1 train_acc: 0.282 train_loss: 2.814 valid_acc: 0.390 valid_loss: 2.320 time: 31.047 seconds\n",
      "Epoch: 2 train_acc: 0.454 train_loss: 2.096 valid_acc: 0.522 valid_loss: 1.823 time: 30.516 seconds\n",
      "Epoch: 3 train_acc: 0.538 train_loss: 1.741 valid_acc: 0.584 valid_loss: 1.553 time: 30.631 seconds\n",
      "Epoch: 4 train_acc: 0.591 train_loss: 1.514 valid_acc: 0.638 valid_loss: 1.345 time: 30.942 seconds\n",
      "Epoch: 5 train_acc: 0.635 train_loss: 1.332 valid_acc: 0.681 valid_loss: 1.169 time: 30.749 seconds\n",
      "Epoch: 6 train_acc: 0.674 train_loss: 1.172 valid_acc: 0.719 valid_loss: 1.016 time: 30.717 seconds\n",
      "Epoch: 7 train_acc: 0.714 train_loss: 1.029 valid_acc: 0.757 valid_loss: 0.883 time: 30.782 seconds\n",
      "Epoch: 8 train_acc: 0.749 train_loss: 0.898 valid_acc: 0.792 valid_loss: 0.763 time: 30.690 seconds\n",
      "Epoch: 9 train_acc: 0.782 train_loss: 0.781 valid_acc: 0.824 valid_loss: 0.648 time: 30.579 seconds\n",
      "Epoch: 10 train_acc: 0.813 train_loss: 0.676 valid_acc: 0.851 valid_loss: 0.558 time: 30.526 seconds\n",
      "Epoch: 11 train_acc: 0.840 train_loss: 0.581 valid_acc: 0.877 valid_loss: 0.468 time: 30.505 seconds\n",
      "Epoch: 12 train_acc: 0.864 train_loss: 0.498 valid_acc: 0.895 valid_loss: 0.399 time: 30.743 seconds\n",
      "Epoch: 13 train_acc: 0.885 train_loss: 0.426 valid_acc: 0.914 valid_loss: 0.337 time: 30.318 seconds\n",
      "Epoch: 14 train_acc: 0.904 train_loss: 0.362 valid_acc: 0.928 valid_loss: 0.285 time: 31.423 seconds\n",
      "Epoch: 15 train_acc: 0.918 train_loss: 0.309 valid_acc: 0.941 valid_loss: 0.239 time: 31.465 seconds\n",
      "Epoch: 16 train_acc: 0.932 train_loss: 0.262 valid_acc: 0.951 valid_loss: 0.203 time: 32.899 seconds\n",
      "Epoch: 17 train_acc: 0.942 train_loss: 0.225 valid_acc: 0.959 valid_loss: 0.171 time: 33.411 seconds\n",
      "Epoch: 18 train_acc: 0.951 train_loss: 0.192 valid_acc: 0.964 valid_loss: 0.147 time: 33.654 seconds\n",
      "Epoch: 19 train_acc: 0.958 train_loss: 0.164 valid_acc: 0.971 valid_loss: 0.122 time: 33.215 seconds\n",
      "Epoch: 20 train_acc: 0.965 train_loss: 0.140 valid_acc: 0.974 valid_loss: 0.106 time: 34.720 seconds\n"
     ]
    }
   ],
   "source": [
    "train_losses, train_accuracies, valid_losses, valid_accuracies = [], [], [], []\n",
    "for epoch in range(20):\n",
    "    start = time.time()\n",
    "\n",
    "    train_acc, train_loss = train_model(dls = train_dls, clf = lstm, opt = optim.Adam(params = lstm.parameters()), loss_fn = loss_func)\n",
    "    valid_acc, valid_loss = evaluate_model(dls = valid_dls, clf = lstm, loss_fn = loss_func)\n",
    "\n",
    "    train_accuracies.append(train_acc)\n",
    "    train_losses.append(train_loss)\n",
    "    valid_accuracies.append(valid_acc)\n",
    "    valid_losses.append(valid_loss)\n",
    "\n",
    "    end = time.time()\n",
    "\n",
    "    print(f'Epoch: {epoch + 1} train_acc: {train_acc:.3f} train_loss: {train_loss:.3f} valid_acc: {valid_acc:.3f} valid_loss: {valid_loss:.3f} time: {end - start:.3f} seconds')"
   ]
  },
  {
   "cell_type": "code",
   "execution_count": 68,
   "metadata": {},
   "outputs": [
    {
     "data": {
      "text/plain": [
       "<matplotlib.legend.Legend at 0x75ea353b8b20>"
      ]
     },
     "execution_count": 68,
     "metadata": {},
     "output_type": "execute_result"
    },
    {
     "data": {
      "image/png": "[encoded data removed]",
      "text/plain": [
       "<Figure size 1000x500 with 2 Axes>"
      ]
     },
     "metadata": {},
     "output_type": "display_data"
    }
   ],
   "source": [
    "fig, (ax1, ax2) = plt.subplots(1, 2, figsize = (10, 5))\n",
    "fig.suptitle(\"LSTM Loss and Accuracy\")\n",
    "ax1.plot(train_losses, label = \"train\")\n",
    "ax1.plot(valid_losses, label = \"valid\")\n",
    "ax1.title.set_text(\"Loss\")\n",
    "ax1.set_xlabel(\"Epoch\")\n",
    "ax1.legend()\n",
    "\n",
    "ax2.plot(train_accuracies, label = \"train\")\n",
    "ax2.plot(valid_accuracies, label = \"valid\")\n",
    "ax2.title.set_text(\"Accuracy\")\n",
    "ax2.set_xlabel(\"Epoch\")\n",
    "ax2.legend()"
   ]
  }
 ],
 "metadata": {
  "interpreter": {
   "hash": "ff9a1cc75414cb3ce1da36931388a0574ba98287c9eb57662339860d0df385c8"
  },
  "kernelspec": {
   "display_name": "Python 3.10.12 ('env': venv)",
   "language": "python",
   "name": "python3"
  },
  "language_info": {
   "codemirror_mode": {
    "name": "ipython",
    "version": 3
   },
   "file_extension": ".py",
   "mimetype": "text/x-python",
   "name": "python",
   "nbconvert_exporter": "python",
   "pygments_lexer": "ipython3",
   "version": "3.10.12"
  },
  "orig_nbformat": 4
 },
 "nbformat": 4,
 "nbformat_minor": 2
}
